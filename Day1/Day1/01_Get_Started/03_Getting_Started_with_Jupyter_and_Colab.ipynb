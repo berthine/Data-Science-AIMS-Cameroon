{
 "cells": [
  {
   "cell_type": "markdown",
   "metadata": {},
   "source": [
    "# Take a trip to Jupyter ......Notebook"
   ]
  },
  {
   "cell_type": "markdown",
   "metadata": {},
   "source": [
    "\n",
    "Data Science is a process that involves a fair amount of coding. \n",
    "To be able to go back and forth between lines of codes and run them independantly, include equations,\n",
    "images, data scientists have came up with the concept of **NOTEBOOKS**.\n",
    "\n",
    "\n",
    "\n",
    "The most popular notebook technologies today are Jupyter (supporting over 40 languages including  **R** and \n",
    "**Python**. Simply put, imagine notebooks as an environment where you can write, edit your lines of codes, include images, videos to allow an easy readability for any potential reader aside you. "
   ]
  },
  {
   "cell_type": "markdown",
   "metadata": {},
   "source": [
    " "
   ]
  },
  {
   "cell_type": "code",
   "execution_count": null,
   "metadata": {},
   "outputs": [],
   "source": []
  },
  {
   "cell_type": "markdown",
   "metadata": {},
   "source": [
    "# What is Jupyter Notebook? "
   ]
  },
  {
   "cell_type": "markdown",
   "metadata": {},
   "source": [
    "**Jupyter** is a tool that allows data scientists to record their complete analysis process, much\n",
    "in the same way other scientists use a lab notebook to record tests, progress, results, and conclusions.\n",
    "\n",
    "\n",
    "\n",
    "Originally developed as part of the IPython project, the Jupyter product was used to provide interactive online access to Python.\n",
    "\n",
    "\n",
    "\n",
    "Over time it became useful to interact with other data analysis tools, such as R, in the same manner.\n",
    "With this split from Python, the tool grew into its current manifestation of Jupyter. IPython is still an active tool that's available for use.\n",
    "The name Jupyter itself is derived from the combination of **Julia, Python, and R.**\n"
   ]
  },
  {
   "cell_type": "markdown",
   "metadata": {},
   "source": [
    "It is an open source web application that gives you the power to create and share documents that contain live codes, equations, vizualisations and narrative text. As a few things that you could do with Jupyter, there are:"
   ]
  },
  {
   "cell_type": "markdown",
   "metadata": {},
   "source": [
    "\n",
    "\n",
    "1. data cleaning, transformation, numerical simulation\n",
    "2. Statistical modeling, data visualisation and Machine Learning\n",
    "2. Running un Julia , Python and R scripts!\n",
    "4. Making your code followable by your audience trough  interactiveness\n",
    "5. Saving your code in various formats (pdf, .tex, .ipynb, .html, ... )"
   ]
  },
  {
   "cell_type": "markdown",
   "metadata": {},
   "source": [
    " "
   ]
  },
  {
   "cell_type": "markdown",
   "metadata": {},
   "source": [
    " "
   ]
  },
  {
   "cell_type": "markdown",
   "metadata": {},
   "source": [
    " "
   ]
  },
  {
   "cell_type": "markdown",
   "metadata": {},
   "source": [
    "# The cells : what makes it interesting"
   ]
  },
  {
   "cell_type": "markdown",
   "metadata": {},
   "source": [
    "1. The way it works is through a collection of cells one beneath the other. \n",
    "2. Cells are a little rectangular blocks in which you can insert codes , text , equations, etc and run them in a random order.\n",
    "3. They are either on Edit mode (Green bar on the left) or Command mode (blue bar on the left)\n"
   ]
  },
  {
   "cell_type": "markdown",
   "metadata": {},
   "source": [
    "The Jupyter Notebook has two keyboard input methods\n",
    "\n",
    "\n",
    "1. Edit Mode: which allows you type your code/text into a cell.    \n",
    "2. Command Mode: which binds the keyboard to notebook level actions "
   ]
  },
  {
   "cell_type": "markdown",
   "metadata": {},
   "source": [
    " "
   ]
  },
  {
   "cell_type": "markdown",
   "metadata": {},
   "source": [
    "1. The edit mode lets you change the content of a cell \n",
    "2. The command mode lets you modify a cell as a whole\n"
   ]
  },
  {
   "cell_type": "markdown",
   "metadata": {},
   "source": [
    "## Let's explore it!!!!"
   ]
  },
  {
   "cell_type": "markdown",
   "metadata": {},
   "source": [
    "1. Creating, adding cells above or below \n",
    "2. Enable the shortcuts dashboard\n",
    "3. Changing the mode (Heading, Markdown, code, ...)\n",
    "4. Renaming, deleting, copying, cutting, pasting cells."
   ]
  },
  {
   "cell_type": "markdown",
   "metadata": {},
   "source": [
    "You can easily import graphs as well"
   ]
  },
  {
   "cell_type": "markdown",
   "metadata": {},
   "source": [
    "Yoou can also make your own graphs as well"
   ]
  },
  {
   "cell_type": "code",
   "execution_count": null,
   "metadata": {},
   "outputs": [],
   "source": []
  },
  {
   "cell_type": "markdown",
   "metadata": {},
   "source": [
    "## Ready for Google Colab?"
   ]
  },
  {
   "cell_type": "markdown",
   "metadata": {},
   "source": [
    "Google Colab is a JUpyter Notebook stored in Google Drive."
   ]
  },
  {
   "cell_type": "markdown",
   "metadata": {},
   "source": [
    "It is a free cloud service and now it supports free GPU! You can:\n",
    "\n",
    "*  Improve your Python programming language coding skills.\n",
    "\n",
    "* Develop deep learning applications using popular libraries such as Keras, TensorFlow, PyTorch."
   ]
  },
  {
   "cell_type": "markdown",
   "metadata": {},
   "source": [
    "# Let's try it!!!"
   ]
  },
  {
   "cell_type": "markdown",
   "metadata": {},
   "source": [
    " "
   ]
  },
  {
   "cell_type": "markdown",
   "metadata": {},
   "source": [
    "## Exercise :\n",
    "\n",
    "\n",
    "1. Set your Google Colab account\n",
    "2. Create a Github Account"
   ]
  }
 ],
 "metadata": {
  "kernelspec": {
   "display_name": "Python 3",
   "language": "python",
   "name": "python3"
  },
  "language_info": {
   "codemirror_mode": {
    "name": "ipython",
    "version": 3
   },
   "file_extension": ".py",
   "mimetype": "text/x-python",
   "name": "python",
   "nbconvert_exporter": "python",
   "pygments_lexer": "ipython3",
   "version": "3.7.4"
  }
 },
 "nbformat": 4,
 "nbformat_minor": 4
}
