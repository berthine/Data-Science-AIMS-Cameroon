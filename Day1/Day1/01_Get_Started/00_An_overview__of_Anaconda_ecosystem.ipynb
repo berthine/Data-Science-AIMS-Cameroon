{
 "cells": [
  {
   "cell_type": "markdown",
   "metadata": {},
   "source": [
    "# The Anaconda Ecosystem"
   ]
  },
  {
   "cell_type": "markdown",
   "metadata": {},
   "source": [
    "Like many others, if you have been trying to get involved in the rapidly expanding field of data science, you have been probably asking yourself which tool to use to get started. "
   ]
  },
  {
   "cell_type": "markdown",
   "metadata": {},
   "source": [
    "Though **Python and R** have proven remarkable to do Data Science as it was explained in earlier notebooks, more often they need to be enriched with a wide set or libraries and packages to be able to perform to their best potential. "
   ]
  },
  {
   "cell_type": "markdown",
   "metadata": {},
   "source": [
    "To overcome the challenges of installing or upgrading the data science packages like **scikit-learn, NumPy and Matplotlib** and solving the various dependencies or even the libraries like **Esquisse, ggplot2, Dplyr,** we introduce the Anaconda distribution."
   ]
  },
  {
   "cell_type": "code",
   "execution_count": 3,
   "metadata": {},
   "outputs": [
    {
     "data": {
      "image/png": "[encoded data removed]",
      "text/plain": [
       "<IPython.core.display.Image object>"
      ]
     },
     "execution_count": 3,
     "metadata": {
      "image/png": {
       "width": 400
      }
     },
     "output_type": "execute_result"
    }
   ],
   "source": [
    "from IPython.display import Image\n",
    "Image('anaconda.png' , width=400)"
   ]
  },
  {
   "cell_type": "markdown",
   "metadata": {},
   "source": [
    " "
   ]
  },
  {
   "cell_type": "markdown",
   "metadata": {},
   "source": [
    "Anaconda is a complete, open source data science package with a community of over 6 million users. What positively strikes about it is its easiness to download and install, and its supported on **Linux, MacOS, and Windows.**\n",
    "\n",
    "\n",
    "Though this part of the course will be taught using Python, Anaconda provides a great support for R through diverse libraries and packages."
   ]
  },
  {
   "cell_type": "markdown",
   "metadata": {},
   "source": [
    " The Anaconda distribution comes ready with more than **1,000 data science packages** as well as the Conda package and virtual environment manager, which clears the pain of installing each library independently.\n"
   ]
  },
  {
   "cell_type": "markdown",
   "metadata": {},
   "source": [
    " As the Anaconda's website says, \"The Python and R conda packages in the Anaconda Repository are curated and compiled in our secure environment so you get optimized binaries that 'just work' on your system.\""
   ]
  },
  {
   "cell_type": "markdown",
   "metadata": {},
   "source": [
    "Apeasing the frustration of newbie users to get started through its desktop graphical  user interface (GUI), its homepage provide links to all the applications included with the distribution including **RStudio, iPython, JupyterLab, Spyder, Glue, Orange and Jupyter Notebook**. The latter will be the focus of the next section.\n"
   ]
  },
  {
   "cell_type": "markdown",
   "metadata": {},
   "source": [
    " "
   ]
  }
 ],
 "metadata": {
  "kernelspec": {
   "display_name": "Python 3",
   "language": "python",
   "name": "python3"
  },
  "language_info": {
   "codemirror_mode": {
    "name": "ipython",
    "version": 3
   },
   "file_extension": ".py",
   "mimetype": "text/x-python",
   "name": "python",
   "nbconvert_exporter": "python",
   "pygments_lexer": "ipython3",
   "version": "3.7.4"
  }
 },
 "nbformat": 4,
 "nbformat_minor": 4
}
