{
 "cells": [
  {
   "cell_type": "markdown",
   "metadata": {},
   "source": [
    "# Exploratory Data Analysis ============================"
   ]
  },
  {
   "cell_type": "markdown",
   "metadata": {},
   "source": [
    "## 1. Operation on data"
   ]
  },
  {
   "cell_type": "markdown",
   "metadata": {},
   "source": [
    "Usually, in some of the data analysis tasks, the insights can be unveiled when the data are aggregated or grouped.\n",
    "\n",
    "Most of the times, it helps the reader get the flavour of the dataset he/she is dealing with and it also reveals \n",
    "\n",
    "some key points that can be used during the decision making process.\n",
    "\n",
    "Here we will present some of them including Grouping, summrizing and aggregating."
   ]
  },
  {
   "cell_type": "markdown",
   "metadata": {},
   "source": [
    "### a. Groupby "
   ]
  },
  {
   "cell_type": "markdown",
   "metadata": {},
   "source": [
    "The **Pandas dataframe.groupby()** function is used to split the data into groups based on some criteria.\n",
    "\n",
    "The abstract definition of grouping is to provide a mapping of labels to group names."
   ]
  },
  {
   "cell_type": "code",
   "execution_count": 2,
   "metadata": {},
   "outputs": [],
   "source": [
    "import pandas as pd"
   ]
  },
  {
   "cell_type": "code",
   "execution_count": 3,
   "metadata": {},
   "outputs": [
    {
     "data": {
      "text/html": [
       "<div>\n",
       "<style scoped>\n",
       "    .dataframe tbody tr th:only-of-type {\n",
       "        vertical-align: middle;\n",
       "    }\n",
       "\n",
       "    .dataframe tbody tr th {\n",
       "        vertical-align: top;\n",
       "    }\n",
       "\n",
       "    .dataframe thead th {\n",
       "        text-align: right;\n",
       "    }\n",
       "</style>\n",
       "<table border=\"1\" class=\"dataframe\">\n",
       "  <thead>\n",
       "    <tr style=\"text-align: right;\">\n",
       "      <th></th>\n",
       "      <th>country</th>\n",
       "      <th>continent</th>\n",
       "      <th>year</th>\n",
       "      <th>lifeExp</th>\n",
       "      <th>pop</th>\n",
       "      <th>gdpPercap</th>\n",
       "    </tr>\n",
       "  </thead>\n",
       "  <tbody>\n",
       "    <tr>\n",
       "      <th>0</th>\n",
       "      <td>Algeria</td>\n",
       "      <td>Africa</td>\n",
       "      <td>1952</td>\n",
       "      <td>43.077</td>\n",
       "      <td>9279525</td>\n",
       "      <td>2449.008185</td>\n",
       "    </tr>\n",
       "    <tr>\n",
       "      <th>1</th>\n",
       "      <td>Algeria</td>\n",
       "      <td>Africa</td>\n",
       "      <td>1957</td>\n",
       "      <td>45.685</td>\n",
       "      <td>10270856</td>\n",
       "      <td>3013.976023</td>\n",
       "    </tr>\n",
       "    <tr>\n",
       "      <th>2</th>\n",
       "      <td>Algeria</td>\n",
       "      <td>Africa</td>\n",
       "      <td>1962</td>\n",
       "      <td>48.303</td>\n",
       "      <td>11000948</td>\n",
       "      <td>2550.816880</td>\n",
       "    </tr>\n",
       "    <tr>\n",
       "      <th>3</th>\n",
       "      <td>Algeria</td>\n",
       "      <td>Africa</td>\n",
       "      <td>1967</td>\n",
       "      <td>51.407</td>\n",
       "      <td>12760499</td>\n",
       "      <td>3246.991771</td>\n",
       "    </tr>\n",
       "    <tr>\n",
       "      <th>4</th>\n",
       "      <td>Algeria</td>\n",
       "      <td>Africa</td>\n",
       "      <td>1972</td>\n",
       "      <td>54.518</td>\n",
       "      <td>14760787</td>\n",
       "      <td>4182.663766</td>\n",
       "    </tr>\n",
       "  </tbody>\n",
       "</table>\n",
       "</div>"
      ],
      "text/plain": [
       "   country continent  year  lifeExp       pop    gdpPercap\n",
       "0  Algeria    Africa  1952   43.077   9279525  2449.008185\n",
       "1  Algeria    Africa  1957   45.685  10270856  3013.976023\n",
       "2  Algeria    Africa  1962   48.303  11000948  2550.816880\n",
       "3  Algeria    Africa  1967   51.407  12760499  3246.991771\n",
       "4  Algeria    Africa  1972   54.518  14760787  4182.663766"
      ]
     },
     "execution_count": 3,
     "metadata": {},
     "output_type": "execute_result"
    }
   ],
   "source": [
    "df = pd.read_csv('data/gapminder.tsv' , \"\\t\")\n",
    "df.head(5)"
   ]
  },
  {
   "cell_type": "code",
   "execution_count": 4,
   "metadata": {},
   "outputs": [
    {
     "data": {
      "text/plain": [
       "<pandas.core.groupby.groupby.DataFrameGroupBy object at 0x7f41444ba4a8>"
      ]
     },
     "execution_count": 4,
     "metadata": {},
     "output_type": "execute_result"
    }
   ],
   "source": [
    "#Let's group the data per year\n",
    "g1 = df.groupby('year')\n",
    "g1"
   ]
  },
  {
   "cell_type": "markdown",
   "metadata": {},
   "source": [
    "Though the data is grouped, it does not give out any relevant information since the user did not ask\n",
    "\n",
    "anything apart from the data to be grouped per year.\n",
    "\n",
    "**What if we want to get the average of the life expectancy for the yearly grouped data?**"
   ]
  },
  {
   "cell_type": "code",
   "execution_count": 5,
   "metadata": {},
   "outputs": [
    {
     "data": {
      "text/plain": [
       "year\n",
       "1952    49.158221\n",
       "1957    51.603135\n",
       "1962    53.683545\n",
       "1967    55.757694\n",
       "1972    57.729649\n",
       "1977    59.654245\n",
       "1982    61.624571\n",
       "1987    63.309779\n",
       "1992    64.267950\n",
       "1997    65.124079\n",
       "2002    65.792136\n",
       "2007    67.105736\n",
       "Name: lifeExp, dtype: float64"
      ]
     },
     "execution_count": 5,
     "metadata": {},
     "output_type": "execute_result"
    }
   ],
   "source": [
    "g1.lifeExp.mean()"
   ]
  },
  {
   "cell_type": "markdown",
   "metadata": {},
   "source": [
    "**Or the average if the variance of the population column for the per continent grouped data?**"
   ]
  },
  {
   "cell_type": "code",
   "execution_count": 6,
   "metadata": {},
   "outputs": [
    {
     "data": {
      "text/plain": [
       "continent\n",
       "Africa      2.399687e+14\n",
       "Americas    2.598902e+15\n",
       "Asia        4.402000e+16\n",
       "Europe      4.279715e+14\n",
       "Oceania     4.233249e+13\n",
       "Name: pop, dtype: float64"
      ]
     },
     "execution_count": 6,
     "metadata": {},
     "output_type": "execute_result"
    }
   ],
   "source": [
    "g2  = df.groupby('continent')\n",
    "g2.pop.var()"
   ]
  },
  {
   "cell_type": "markdown",
   "metadata": {},
   "source": [
    "**Or the descriptive statistics of the life expectancyfor the yearly grouped data?**"
   ]
  },
  {
   "cell_type": "code",
   "execution_count": 7,
   "metadata": {},
   "outputs": [
    {
     "data": {
      "text/html": [
       "<div>\n",
       "<style scoped>\n",
       "    .dataframe tbody tr th:only-of-type {\n",
       "        vertical-align: middle;\n",
       "    }\n",
       "\n",
       "    .dataframe tbody tr th {\n",
       "        vertical-align: top;\n",
       "    }\n",
       "\n",
       "    .dataframe thead th {\n",
       "        text-align: right;\n",
       "    }\n",
       "</style>\n",
       "<table border=\"1\" class=\"dataframe\">\n",
       "  <thead>\n",
       "    <tr style=\"text-align: right;\">\n",
       "      <th></th>\n",
       "      <th>count</th>\n",
       "      <th>mean</th>\n",
       "      <th>std</th>\n",
       "      <th>min</th>\n",
       "      <th>25%</th>\n",
       "      <th>50%</th>\n",
       "      <th>75%</th>\n",
       "      <th>max</th>\n",
       "    </tr>\n",
       "    <tr>\n",
       "      <th>year</th>\n",
       "      <th></th>\n",
       "      <th></th>\n",
       "      <th></th>\n",
       "      <th></th>\n",
       "      <th></th>\n",
       "      <th></th>\n",
       "      <th></th>\n",
       "      <th></th>\n",
       "    </tr>\n",
       "  </thead>\n",
       "  <tbody>\n",
       "    <tr>\n",
       "      <th>1952</th>\n",
       "      <td>140.0</td>\n",
       "      <td>49.158221</td>\n",
       "      <td>12.181478</td>\n",
       "      <td>30.000</td>\n",
       "      <td>39.11500</td>\n",
       "      <td>45.1355</td>\n",
       "      <td>59.96400</td>\n",
       "      <td>72.670</td>\n",
       "    </tr>\n",
       "    <tr>\n",
       "      <th>1957</th>\n",
       "      <td>140.0</td>\n",
       "      <td>51.603135</td>\n",
       "      <td>12.169108</td>\n",
       "      <td>31.570</td>\n",
       "      <td>41.32650</td>\n",
       "      <td>48.3605</td>\n",
       "      <td>63.18325</td>\n",
       "      <td>73.470</td>\n",
       "    </tr>\n",
       "    <tr>\n",
       "      <th>1962</th>\n",
       "      <td>140.0</td>\n",
       "      <td>53.683545</td>\n",
       "      <td>12.007452</td>\n",
       "      <td>32.767</td>\n",
       "      <td>43.54950</td>\n",
       "      <td>50.8810</td>\n",
       "      <td>65.33700</td>\n",
       "      <td>73.680</td>\n",
       "    </tr>\n",
       "    <tr>\n",
       "      <th>1967</th>\n",
       "      <td>140.0</td>\n",
       "      <td>55.757694</td>\n",
       "      <td>11.624418</td>\n",
       "      <td>34.113</td>\n",
       "      <td>46.17325</td>\n",
       "      <td>53.8250</td>\n",
       "      <td>67.50250</td>\n",
       "      <td>74.160</td>\n",
       "    </tr>\n",
       "    <tr>\n",
       "      <th>1972</th>\n",
       "      <td>140.0</td>\n",
       "      <td>57.729649</td>\n",
       "      <td>11.284350</td>\n",
       "      <td>35.400</td>\n",
       "      <td>48.62675</td>\n",
       "      <td>56.5300</td>\n",
       "      <td>69.29250</td>\n",
       "      <td>74.720</td>\n",
       "    </tr>\n",
       "    <tr>\n",
       "      <th>1977</th>\n",
       "      <td>140.0</td>\n",
       "      <td>59.654245</td>\n",
       "      <td>11.136169</td>\n",
       "      <td>31.220</td>\n",
       "      <td>50.72650</td>\n",
       "      <td>59.6720</td>\n",
       "      <td>70.42000</td>\n",
       "      <td>76.110</td>\n",
       "    </tr>\n",
       "    <tr>\n",
       "      <th>1982</th>\n",
       "      <td>140.0</td>\n",
       "      <td>61.624571</td>\n",
       "      <td>10.663845</td>\n",
       "      <td>38.445</td>\n",
       "      <td>52.95400</td>\n",
       "      <td>62.4415</td>\n",
       "      <td>70.98575</td>\n",
       "      <td>77.110</td>\n",
       "    </tr>\n",
       "    <tr>\n",
       "      <th>1987</th>\n",
       "      <td>140.0</td>\n",
       "      <td>63.309779</td>\n",
       "      <td>10.433923</td>\n",
       "      <td>39.906</td>\n",
       "      <td>54.97025</td>\n",
       "      <td>65.8340</td>\n",
       "      <td>71.80575</td>\n",
       "      <td>78.670</td>\n",
       "    </tr>\n",
       "    <tr>\n",
       "      <th>1992</th>\n",
       "      <td>140.0</td>\n",
       "      <td>64.267950</td>\n",
       "      <td>11.127546</td>\n",
       "      <td>23.599</td>\n",
       "      <td>56.32925</td>\n",
       "      <td>67.7030</td>\n",
       "      <td>72.63875</td>\n",
       "      <td>79.360</td>\n",
       "    </tr>\n",
       "    <tr>\n",
       "      <th>1997</th>\n",
       "      <td>140.0</td>\n",
       "      <td>65.124079</td>\n",
       "      <td>11.453762</td>\n",
       "      <td>36.087</td>\n",
       "      <td>55.78525</td>\n",
       "      <td>69.3940</td>\n",
       "      <td>74.32900</td>\n",
       "      <td>80.690</td>\n",
       "    </tr>\n",
       "    <tr>\n",
       "      <th>2002</th>\n",
       "      <td>140.0</td>\n",
       "      <td>65.792136</td>\n",
       "      <td>12.175622</td>\n",
       "      <td>39.193</td>\n",
       "      <td>56.08675</td>\n",
       "      <td>70.8255</td>\n",
       "      <td>75.35775</td>\n",
       "      <td>82.000</td>\n",
       "    </tr>\n",
       "    <tr>\n",
       "      <th>2007</th>\n",
       "      <td>140.0</td>\n",
       "      <td>67.105736</td>\n",
       "      <td>11.972559</td>\n",
       "      <td>39.613</td>\n",
       "      <td>57.74675</td>\n",
       "      <td>71.9355</td>\n",
       "      <td>76.39850</td>\n",
       "      <td>82.603</td>\n",
       "    </tr>\n",
       "  </tbody>\n",
       "</table>\n",
       "</div>"
      ],
      "text/plain": [
       "      count       mean        std     min       25%      50%       75%     max\n",
       "year                                                                          \n",
       "1952  140.0  49.158221  12.181478  30.000  39.11500  45.1355  59.96400  72.670\n",
       "1957  140.0  51.603135  12.169108  31.570  41.32650  48.3605  63.18325  73.470\n",
       "1962  140.0  53.683545  12.007452  32.767  43.54950  50.8810  65.33700  73.680\n",
       "1967  140.0  55.757694  11.624418  34.113  46.17325  53.8250  67.50250  74.160\n",
       "1972  140.0  57.729649  11.284350  35.400  48.62675  56.5300  69.29250  74.720\n",
       "1977  140.0  59.654245  11.136169  31.220  50.72650  59.6720  70.42000  76.110\n",
       "1982  140.0  61.624571  10.663845  38.445  52.95400  62.4415  70.98575  77.110\n",
       "1987  140.0  63.309779  10.433923  39.906  54.97025  65.8340  71.80575  78.670\n",
       "1992  140.0  64.267950  11.127546  23.599  56.32925  67.7030  72.63875  79.360\n",
       "1997  140.0  65.124079  11.453762  36.087  55.78525  69.3940  74.32900  80.690\n",
       "2002  140.0  65.792136  12.175622  39.193  56.08675  70.8255  75.35775  82.000\n",
       "2007  140.0  67.105736  11.972559  39.613  57.74675  71.9355  76.39850  82.603"
      ]
     },
     "execution_count": 7,
     "metadata": {},
     "output_type": "execute_result"
    }
   ],
   "source": [
    "g3 = df.groupby('year')\n",
    "g3.lifeExp.describe()"
   ]
  },
  {
   "cell_type": "markdown",
   "metadata": {},
   "source": [
    "This can be even taken one level forward, as we could also get the average \n",
    "\n",
    "of the gdpPerCap for the yearly and \"per continent\" grouped data"
   ]
  },
  {
   "cell_type": "code",
   "execution_count": 8,
   "metadata": {},
   "outputs": [
    {
     "data": {
      "text/plain": [
       "year  continent\n",
       "1952  Africa        1252.572466\n",
       "      Americas      4079.062552\n",
       "      Asia          5333.485213\n",
       "      Europe        5801.057480\n",
       "      Oceania      10298.085650\n",
       "1957  Africa        1385.236062\n",
       "      Americas      4616.043733\n",
       "      Asia          5942.947937\n",
       "      Europe        7136.141387\n",
       "      Oceania      11598.522455\n",
       "1962  Africa        1598.078825\n",
       "      Americas      4901.541870\n",
       "      Asia          5881.753028\n",
       "      Europe        8574.197085\n",
       "      Oceania      12696.452430\n",
       "1967  Africa        2050.363801\n",
       "      Americas      5668.253496\n",
       "      Asia          6131.641381\n",
       "      Europe       10398.431578\n",
       "      Oceania      14495.021790\n",
       "1972  Africa        2339.615674\n",
       "      Americas      6491.334139\n",
       "      Asia          8420.202687\n",
       "      Europe       12795.649490\n",
       "      Oceania      16417.333380\n",
       "1977  Africa        2585.938508\n",
       "      Americas      7352.007126\n",
       "      Asia          8010.226541\n",
       "      Europe       14654.702392\n",
       "      Oceania      17283.957605\n",
       "1982  Africa        2481.592960\n",
       "      Americas      7506.737088\n",
       "      Asia          7635.889024\n",
       "      Europe       16031.241925\n",
       "      Oceania      18554.709840\n",
       "1987  Africa        2282.668991\n",
       "      Americas      7793.400261\n",
       "      Asia          7819.346213\n",
       "      Europe       17678.978933\n",
       "      Oceania      20448.040160\n",
       "1992  Africa        2281.810333\n",
       "      Americas      8044.934406\n",
       "      Asia          8889.388649\n",
       "      Europe       17563.779470\n",
       "      Oceania      20894.045885\n",
       "1997  Africa        2378.759555\n",
       "      Americas      8889.300863\n",
       "      Asia         10121.554294\n",
       "      Europe       19624.496533\n",
       "      Oceania      24024.175170\n",
       "2002  Africa        2599.385159\n",
       "      Americas      9287.677107\n",
       "      Asia         10469.320282\n",
       "      Europe       22301.646929\n",
       "      Oceania      26938.778040\n",
       "2007  Africa        3089.032605\n",
       "      Americas     11003.031625\n",
       "      Asia         12832.353324\n",
       "      Europe       25713.704122\n",
       "      Oceania      29810.188275\n",
       "Name: gdpPercap, dtype: float64"
      ]
     },
     "execution_count": 8,
     "metadata": {},
     "output_type": "execute_result"
    }
   ],
   "source": [
    "g4 = df.groupby(['year' , 'continent'])\n",
    "\n",
    "g4.gdpPercap.mean()"
   ]
  },
  {
   "cell_type": "markdown",
   "metadata": {},
   "source": [
    "You might have noticed that these calculations work only for the pandas built-in functions,\n",
    "\n",
    "such as mean(), max(), min(), std() , var()\n",
    "\n",
    "For those who want to run their own function. How to proceed?"
   ]
  },
  {
   "cell_type": "markdown",
   "metadata": {},
   "source": [
    "The first approach consists on using the built-in fucntions of the numpy library"
   ]
  },
  {
   "cell_type": "markdown",
   "metadata": {},
   "source": [
    "The below command returns the median of the yearly grouped data"
   ]
  },
  {
   "cell_type": "code",
   "execution_count": null,
   "metadata": {},
   "outputs": [],
   "source": [
    "import "
   ]
  },
  {
   "cell_type": "code",
   "execution_count": 9,
   "metadata": {},
   "outputs": [
    {
     "ename": "NameError",
     "evalue": "name 'np' is not defined",
     "output_type": "error",
     "traceback": [
      "\u001b[0;31m---------------------------------------------------------------------------\u001b[0m",
      "\u001b[0;31mNameError\u001b[0m                                 Traceback (most recent call last)",
      "\u001b[0;32m<ipython-input-9-264e75717eca>\u001b[0m in \u001b[0;36m<module>\u001b[0;34m()\u001b[0m\n\u001b[0;32m----> 1\u001b[0;31m \u001b[0mg5\u001b[0m \u001b[0;34m=\u001b[0m \u001b[0mdf\u001b[0m\u001b[0;34m.\u001b[0m\u001b[0mgroupby\u001b[0m\u001b[0;34m(\u001b[0m\u001b[0;34m'year'\u001b[0m\u001b[0;34m)\u001b[0m\u001b[0;34m[\u001b[0m\u001b[0;34m'gdpPercap'\u001b[0m\u001b[0;34m]\u001b[0m\u001b[0;34m.\u001b[0m\u001b[0magg\u001b[0m\u001b[0;34m(\u001b[0m\u001b[0mnp\u001b[0m\u001b[0;34m.\u001b[0m\u001b[0mmedian\u001b[0m\u001b[0;34m)\u001b[0m\u001b[0;34m\u001b[0m\u001b[0;34m\u001b[0m\u001b[0m\n\u001b[0m\u001b[1;32m      2\u001b[0m \u001b[0mg5\u001b[0m\u001b[0;34m\u001b[0m\u001b[0;34m\u001b[0m\u001b[0m\n",
      "\u001b[0;31mNameError\u001b[0m: name 'np' is not defined"
     ]
    }
   ],
   "source": [
    "g5 = df.groupby('year')['gdpPercap'].agg(np.median)\n",
    "g5"
   ]
  },
  {
   "cell_type": "markdown",
   "metadata": {},
   "source": [
    "You might also define your own function"
   ]
  },
  {
   "cell_type": "markdown",
   "metadata": {},
   "source": [
    "The function below returns the equivalent in centuriy of the average of the yearly grouped data"
   ]
  },
  {
   "cell_type": "code",
   "execution_count": 26,
   "metadata": {},
   "outputs": [],
   "source": [
    "#just define your own function\n",
    "import numpy as np\n",
    "def century(values):\n",
    "    \"\"\"This function returns the equivalent\n",
    "    in centuries of the average of a group\"\"\"\n",
    "    n = len(values)\n",
    "    s = np.sum(values)\n",
    "    m = s / (n *100)\n",
    "    return m \n",
    "    "
   ]
  },
  {
   "cell_type": "code",
   "execution_count": 27,
   "metadata": {},
   "outputs": [
    {
     "data": {
      "text/plain": [
       "year\n",
       "1952    0.491582\n",
       "1957    0.516031\n",
       "1962    0.536835\n",
       "1967    0.557577\n",
       "1972    0.577296\n",
       "1977    0.596542\n",
       "1982    0.616246\n",
       "1987    0.633098\n",
       "1992    0.642680\n",
       "1997    0.651241\n",
       "2002    0.657921\n",
       "2007    0.671057\n",
       "Name: lifeExp, dtype: float64"
      ]
     },
     "execution_count": 27,
     "metadata": {},
     "output_type": "execute_result"
    }
   ],
   "source": [
    "g6 = df.groupby('year')\n",
    "g6.lifeExp.agg(century)"
   ]
  },
  {
   "cell_type": "markdown",
   "metadata": {},
   "source": [
    " "
   ]
  }
 ],
 "metadata": {
  "kernelspec": {
   "display_name": "Python 3",
   "language": "python",
   "name": "python3"
  },
  "language_info": {
   "codemirror_mode": {
    "name": "ipython",
    "version": 3
   },
   "file_extension": ".py",
   "mimetype": "text/x-python",
   "name": "python",
   "nbconvert_exporter": "python",
   "pygments_lexer": "ipython3",
   "version": "3.6.8"
  }
 },
 "nbformat": 4,
 "nbformat_minor": 2
}
